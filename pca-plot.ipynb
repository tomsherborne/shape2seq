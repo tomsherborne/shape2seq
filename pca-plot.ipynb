{
 "cells": [
  {
   "cell_type": "markdown",
   "metadata": {},
   "source": [
    "Perplexity and PCA testing"
   ]
  },
  {
   "cell_type": "code",
   "execution_count": 151,
   "metadata": {},
   "outputs": [],
   "source": [
    "# Src Vocab from Agreement-Simple dataset\n",
    "SIMPLE_SRC_VOCAB = ['', '.', 'a', 'blue', 'circle', 'cross', 'cyan', 'ellipse', 'gray', 'green', 'is', 'magenta',\n",
    "            'pentagon', 'rectangle', 'red', 'semicircle', 'shape', 'square', 'there', 'triangle', 'yellow', '[UNKNOWN]']\n",
    "\n",
    "# Shape and colours\n",
    "SHAPES = ['circle', 'cross', 'ellipse', 'pentagon', 'rectangle', 'semicircle', 'square', 'triangle']   # Specific shapes\n",
    "SHAPES_HYPERNYMS = ['shape']      # Abstract words for shapes\n",
    "COLORS = ['blue', 'cyan', 'gray', 'green', 'magenta', 'red', 'yellow']  # Color words\n",
    "STOPS = ['a', 'an', 'there', 'is', \".\"]      # Stop words\n",
    "AUX_VOCAB = ['[UNKNOWN]', \"<S>\", \"</S>\"]    # Aux words to useful vocabulary\n",
    "SPATIAL_AUX_VOCAB = [\"above\", \"below\", \"left\", \"right\", \"of\", \"to\"]\n",
    "\n",
    "\n",
    "AGREEMENT_ONESHAPE_VOCAB = AUX_VOCAB + SHAPES + SHAPES_HYPERNYMS + COLORS + STOPS + [\"\"]\n",
    "AGREEMENT_SPATIAL_VOCAB = AGREEMENT_ONESHAPE_VOCAB + SPATIAL_AUX_VOCAB+ [\"\"]\n",
    "\n",
    "\n",
    "AUX_VOCAB = [\"\", '[UNKNOWN]', \"<S>\", \"</S>\"]\n",
    "\n",
    "SHAPE_COLOR_VOCAB = AUX_VOCAB + ['blue', 'circle', 'cross', 'cyan', 'ellipse', 'gray', 'green', 'magenta', 'pentagon',\n",
    "                                 'rectangle', 'red', 'semicircle', 'square', 'triangle', 'yellow']\n",
    "SHAPE_VOCAB = AUX_VOCAB + ['circle', 'cross', 'ellipse', 'pentagon', 'rectangle', 'semicircle', 'square', 'triangle']\n",
    "COLOR_VOCAB = AUX_VOCAB + ['blue', 'cyan', 'gray', 'green', 'magenta', 'red', 'yellow']\n",
    "STANDARD_VOCAB = AUX_VOCAB + ['.', 'a', 'blue', 'circle', 'cross', 'cyan', 'ellipse', 'gray', 'green', 'is', 'magenta',\n",
    "                        'pentagon', 'rectangle', 'red', 'semicircle', 'shape', 'square', 'there', 'triangle', 'yellow']\n",
    "\n",
    "SIMPLE_TGT_VOCAB_ = {\"shape\": SHAPE_VOCAB, \"color\": COLOR_VOCAB, \"shapecolor\": SHAPE_COLOR_VOCAB, \"existential\": STANDARD_VOCAB}\n"
   ]
  },
  {
   "cell_type": "code",
   "execution_count": 334,
   "metadata": {},
   "outputs": [],
   "source": [
    "\n",
    "# SRC VOCAB FROM SHAPEWORLD API\n",
    "SIMPLE_SRC_VOCAB = ['', '.', 'a', 'blue', 'circle', 'cross', 'cyan', 'ellipse', 'gray', 'green', 'is', 'magenta',\n",
    "            'pentagon', 'rectangle', 'red', 'semicircle', 'shape', 'square', 'there', 'triangle', 'yellow', '[UNKNOWN]']\n",
    "\n",
    "# Shape and colours\n",
    "SHAPES = ['circle', 'cross', 'ellipse', 'pentagon', 'rectangle', 'semicircle', 'square', 'triangle']   # Specific shapes\n",
    "SHAPES_AUX = ['shape']      # Abstract words for shapes\n",
    "COLORS = ['blue', 'cyan', 'gray', 'green', 'magenta', 'red', 'yellow']  # Color words\n",
    "STOPS = ['a', 'an', 'there', 'is', \".\"]      # Stop words\n",
    "AUX_VOCAB = [\"\", '[UNKNOWN]', \"<S>\", \"</S>\"]    # Aux words to useful vocabulary\n",
    "\n",
    "SHAPE_COLOR_VOCAB = AUX_VOCAB + SHAPES + COLORS\n",
    "SHAPE_VOCAB = AUX_VOCAB + SHAPES\n",
    "COLOR_VOCAB = AUX_VOCAB + COLORS\n",
    "STANDARD_VOCAB = AUX_VOCAB + SHAPES + COLORS + ['there', 'is', 'a']\n",
    "\n",
    "AGREEMENT_ONESHAPE_VOCAB = AUX_VOCAB + SHAPES + SHAPES_AUX + COLORS + STOPS"
   ]
  },
  {
   "cell_type": "code",
   "execution_count": 152,
   "metadata": {},
   "outputs": [],
   "source": [
    "\"\"\"\n",
    "SEQ2SEQ IMAGE CAPTIONING\n",
    "Tom Sherborne 8/5/18\n",
    "\"\"\"\n",
    "import math\n",
    "from __future__ import absolute_import\n",
    "from __future__ import division\n",
    "from __future__ import print_function\n",
    "import os, time, csv\n",
    "\n",
    "import matplotlib.pyplot as plt\n",
    "import numpy as np\n",
    "import tensorflow as tf\n",
    "from sklearn.decomposition import PCA\n",
    "from sklearn.manifold import TSNE"
   ]
  },
  {
   "cell_type": "code",
   "execution_count": 153,
   "metadata": {},
   "outputs": [
    {
     "data": {
      "text/plain": [
       "'/Users/tom/code/acs/ic_models/shape2seq/models/final/short/shapecolor/train'"
      ]
     },
     "execution_count": 153,
     "metadata": {},
     "output_type": "execute_result"
    }
   ],
   "source": [
    "loc"
   ]
  },
  {
   "cell_type": "code",
   "execution_count": 154,
   "metadata": {},
   "outputs": [
    {
     "name": "stdout",
     "output_type": "stream",
     "text": [
      "\u001b[34meval\u001b[m\u001b[m  \u001b[34mtest\u001b[m\u001b[m  \u001b[34mtrain\u001b[m\u001b[m\n"
     ]
    }
   ],
   "source": [
    "!ls /Users/tom/code/acs/ic_models/shape2seq/models/final/short/shape"
   ]
  },
  {
   "cell_type": "code",
   "execution_count": 335,
   "metadata": {},
   "outputs": [
    {
     "name": "stdout",
     "output_type": "stream",
     "text": [
      "INFO:tensorflow:Restoring parameters from ./models/final/oneshape/train/model-34364\n",
      "<tf.Variable 'seq_embeddings/seq_map:0' shape=(25, 50) dtype=float32_ref>\n"
     ]
    }
   ],
   "source": [
    "tf.reset_default_graph()\n",
    "sess = tf.Session(config=tf.ConfigProto(allow_soft_placement=True))\n",
    "\n",
    "loc = './models/final/oneshape/train'\n",
    "# short_root = \"/Users/tom/code/acs/ic_models/shape2seq/models/final/short/\"\n",
    "# short_type = 'existential'\n",
    "# loc = short_root + short_type + \"/train\"\n",
    "\n",
    "vocab = SIMPLE_TGT_VOCAB_[short_type]\n",
    "vocab = AGREEMENT_ONESHAPE_VOCAB\n",
    "output_root = \"/Users/tom/thesis-acs/thesis/figs/\"\n",
    "# output_fname = output_root + \"c4-\"+short_type+\"-vocab-space\" + \".eps\"\n",
    "output_fname = output_root + 'c5-oneshape-vocab-space2.eps'\n",
    "\n",
    "ckpt = tf.train.latest_checkpoint(loc)\n",
    "new_saver = tf.train.import_meta_graph(ckpt+\".meta\")\n",
    "new_saver.restore(sess,ckpt)\n",
    "var = [v for v in tf.global_variables() if v.name == 'seq_embeddings/seq_map:0'][0]\n",
    "print(var)\n",
    "v_ = sess.run(var)"
   ]
  },
  {
   "cell_type": "code",
   "execution_count": 336,
   "metadata": {},
   "outputs": [
    {
     "data": {
      "text/plain": [
       "25"
      ]
     },
     "execution_count": 336,
     "metadata": {},
     "output_type": "execute_result"
    }
   ],
   "source": [
    "len(vocab)"
   ]
  },
  {
   "cell_type": "code",
   "execution_count": 337,
   "metadata": {},
   "outputs": [
    {
     "data": {
      "text/plain": [
       "(25, 50)"
      ]
     },
     "execution_count": 337,
     "metadata": {},
     "output_type": "execute_result"
    }
   ],
   "source": [
    "np.shape(v_)"
   ]
  },
  {
   "cell_type": "code",
   "execution_count": 359,
   "metadata": {},
   "outputs": [],
   "source": [
    "tsne = TSNE(n_components=2, perplexity=)\n",
    "v_tsne = tsne.fit_transform(v_)"
   ]
  },
  {
   "cell_type": "code",
   "execution_count": 360,
   "metadata": {},
   "outputs": [],
   "source": [
    "colors = []\n",
    "for s in vocab:\n",
    "    if s in SHAPES:\n",
    "        colors.append('blue')\n",
    "    elif s in COLORS:\n",
    "        colors.append('red')\n",
    "    else:\n",
    "        colors.append('green')\n"
   ]
  },
  {
   "cell_type": "code",
   "execution_count": 361,
   "metadata": {},
   "outputs": [
    {
     "name": "stderr",
     "output_type": "stream",
     "text": [
      "/Users/tom/miniconda3/envs/py35/lib/python3.5/site-packages/matplotlib/font_manager.py:1316: UserWarning: findfont: Font family ['Helvetica'] not found. Falling back to DejaVu Sans\n",
      "  (prop.get_family(), self.defaultFamily[fontext]))\n"
     ]
    },
    {
     "data": {
      "image/png": "[encoded data removed]",
      "text/plain": [
       "<matplotlib.figure.Figure at 0x1c28d5f6d8>"
      ]
     },
     "metadata": {},
     "output_type": "display_data"
    }
   ],
   "source": [
    "hfont = {'fontname':'Helvetica'}\n",
    "\n",
    "plt.style.use('ggplot')\n",
    "fig, ax = plt.subplots()\n",
    "ax.scatter(v_tsne[:,0], v_tsne[:,1], c=colors,label=labels)\n",
    "fig = plt.gcf()\n",
    "fig.set_size_inches(8.24, 6)\n",
    "ann = []\n",
    "for i, txt in enumerate(vocab):\n",
    "    ann.append(ax.annotate(txt, (v_tsne[i,0], v_tsne[i,1]),fontsize=12,**hfont))\n",
    "\n",
    "mask = np.zeros(fig.canvas.get_width_height(), bool)\n",
    "\n",
    "plt.savefig(output_fname,dpi=300)\n",
    "\n",
    "fig.canvas.draw()\n"
   ]
  },
  {
   "cell_type": "code",
   "execution_count": 318,
   "metadata": {},
   "outputs": [
    {
     "data": {
      "text/plain": [
       "'/Users/tom/thesis-acs/thesis/figs/c4-color-vocab-space.eps'"
      ]
     },
     "execution_count": 318,
     "metadata": {},
     "output_type": "execute_result"
    }
   ],
   "source": [
    "output_fname"
   ]
  },
  {
   "cell_type": "code",
   "execution_count": 292,
   "metadata": {},
   "outputs": [
    {
     "data": {
      "text/plain": [
       "<matplotlib.figure.Figure at 0x1c28194240>"
      ]
     },
     "metadata": {},
     "output_type": "display_data"
    }
   ],
   "source": []
  },
  {
   "cell_type": "code",
   "execution_count": 289,
   "metadata": {},
   "outputs": [
    {
     "name": "stdout",
     "output_type": "stream",
     "text": [
      "c4-color-vocab-space.eps       c4-shapecolor-vocab-space.eps\n",
      "c4-existential-vocab-space.eps c5-oneshape-vocab-space.eps\n",
      "c4-shape-vocab-space.eps\n"
     ]
    }
   ],
   "source": [
    "!ls /Users/tom/thesis-acs/thesis/figs\n"
   ]
  },
  {
   "cell_type": "code",
   "execution_count": null,
   "metadata": {},
   "outputs": [],
   "source": []
  }
 ],
 "metadata": {
  "kernelspec": {
   "display_name": "Python 3",
   "language": "python",
   "name": "python3"
  },
  "language_info": {
   "codemirror_mode": {
    "name": "ipython",
    "version": 3
   },
   "file_extension": ".py",
   "mimetype": "text/x-python",
   "name": "python",
   "nbconvert_exporter": "python",
   "pygments_lexer": "ipython3",
   "version": "3.5.4"
  }
 },
 "nbformat": 4,
 "nbformat_minor": 2
}
