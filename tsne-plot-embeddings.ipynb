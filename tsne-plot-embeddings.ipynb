{
 "cells": [
  {
   "cell_type": "markdown",
   "metadata": {},
   "source": [
    "Plotting t-SNE figures of ShapeWorld vocabulary"
   ]
  },
  {
   "cell_type": "code",
   "execution_count": null,
   "metadata": {},
   "outputs": [],
   "source": [
    "# SRC VOCAB FROM SHAPEWORLD API\n",
    "SIMPLE_SRC_VOCAB = ['', '.', 'a', 'blue', 'circle', 'cross', 'cyan', 'ellipse', 'gray', 'green', 'is', 'magenta',\n",
    "            'pentagon', 'rectangle', 'red', 'semicircle', 'shape', 'square', 'there', 'triangle', 'yellow', '[UNKNOWN]']\n",
    "\n",
    "# Shape and colours\n",
    "SHAPES = ['circle', 'cross', 'ellipse', 'pentagon', 'rectangle', 'semicircle', 'square', 'triangle']   # Specific shapes\n",
    "SHAPES_AUX = ['shape']      # Abstract words for shapes\n",
    "COLORS = ['blue', 'cyan', 'gray', 'green', 'magenta', 'red', 'yellow']  # Color words\n",
    "STOPS = ['a', 'an', 'there', 'is', \".\"]      # Stop words\n",
    "AUX_VOCAB = [\"\", '[UNKNOWN]', \"<S>\", \"</S>\"]    # Aux words to useful vocabulary\n",
    "\n",
    "SHAPE_COLOR_VOCAB = AUX_VOCAB + SHAPES + COLORS\n",
    "SHAPE_VOCAB = AUX_VOCAB + SHAPES\n",
    "COLOR_VOCAB = AUX_VOCAB + COLORS\n",
    "STANDARD_VOCAB = AUX_VOCAB + SHAPES + COLORS + ['there', 'is', 'a']\n",
    "\n",
    "AGREEMENT_ONESHAPE_VOCAB = AUX_VOCAB + SHAPES + SHAPES_AUX + COLORS + STOPS"
   ]
  },
  {
   "cell_type": "code",
   "execution_count": null,
   "metadata": {},
   "outputs": [],
   "source": [
    "import math\n",
    "from __future__ import absolute_import\n",
    "from __future__ import division\n",
    "from __future__ import print_function\n",
    "import os, time, csv\n",
    "\n",
    "import matplotlib.pyplot as plt\n",
    "import numpy as np\n",
    "import tensorflow as tf\n",
    "from sklearn.manifold import TSNE"
   ]
  },
  {
   "cell_type": "code",
   "execution_count": null,
   "metadata": {},
   "outputs": [],
   "source": [
    "tf.reset_default_graph()\n",
    "sess = tf.Session(config=tf.ConfigProto(allow_soft_placement=True))\n",
    "\n",
    "# Point to dir where the checkpoint is\n",
    "loc = './models/final/oneshape/train'\n",
    "# Where to save .eps figs\n",
    "output_root = \"/Users/tom/thesis-acs/thesis/figs/\"\n",
    "\n",
    "# Name the output .eps\n",
    "output_fname = output_root + 'c5-oneshape-vocab-space2.eps'\n",
    "\n",
    "# Choose vocab to label each embedding index\n",
    "vocab = AGREEMENT_ONESHAPE_VOCAB\n",
    "\n",
    "# Get TF checkpoint\n",
    "ckpt = tf.train.latest_checkpoint(loc)\n",
    "\n",
    "# Import meta graph (avoids having to do any model.build() calls) and restore from ckpt\n",
    "new_saver = tf.train.import_meta_graph(ckpt+\".meta\")\n",
    "new_saver.restore(sess,ckpt)\n",
    "\n",
    "# Get the sequence embeddings from the graph (assumed name is seq_embeddings/seq_map)\n",
    "var = [v for v in tf.global_variables() if v.name == 'seq_embeddings/seq_map:0'][0]\n",
    "\n",
    "# Print Tensor REPR\n",
    "print(var)\n",
    "\n",
    "# Get Numpy version of the tensor\n",
    "v_ = sess.run(var)\n",
    "\n",
    "# Print Numpy embedding obj\n",
    "print(v_)"
   ]
  },
  {
   "cell_type": "code",
   "execution_count": null,
   "metadata": {},
   "outputs": [],
   "source": [
    "# Must have as many words as embeddings\n",
    "assert np.shape(v_)[0]==len(vocab)"
   ]
  },
  {
   "cell_type": "code",
   "execution_count": null,
   "metadata": {},
   "outputs": [],
   "source": [
    "# Run t-SNE to collapse to 2D. Edit perplexity for your data \n",
    "tsne = TSNE(n_components=2, perplexity=8)\n",
    "v_tsne = tsne.fit_transform(v_)"
   ]
  },
  {
   "cell_type": "code",
   "execution_count": null,
   "metadata": {},
   "outputs": [],
   "source": [
    "# ShapeWorld specific labelling to colour code output plots\n",
    "colors = []\n",
    "for s in vocab:\n",
    "    if s in SHAPES:\n",
    "        colors.append('blue')\n",
    "    elif s in COLORS:\n",
    "        colors.append('red')\n",
    "    else:\n",
    "        colors.append('green')"
   ]
  },
  {
   "cell_type": "code",
   "execution_count": null,
   "metadata": {},
   "outputs": [],
   "source": [
    "# Generate a plot and save\n",
    "\n",
    "hfont = {'fontname':'Helvetica'}\n",
    "\n",
    "plt.style.use('ggplot')\n",
    "fig, ax = plt.subplots()\n",
    "ax.scatter(v_tsne[:,0], v_tsne[:,1], c=colors,label=labels)\n",
    "fig = plt.gcf()\n",
    "fig.set_size_inches(8.24, 6)\n",
    "ann = []\n",
    "for i, txt in enumerate(vocab):\n",
    "    ann.append(ax.annotate(txt, (v_tsne[i,0], v_tsne[i,1]),fontsize=12,**hfont))\n",
    "\n",
    "mask = np.zeros(fig.canvas.get_width_height(), bool)\n",
    "\n",
    "plt.savefig(output_fname,dpi=300)\n",
    "\n",
    "fig.canvas.draw()\n"
   ]
  }
 ],
 "metadata": {
  "kernelspec": {
   "display_name": "Python 3",
   "language": "python",
   "name": "python3"
  },
  "language_info": {
   "codemirror_mode": {
    "name": "ipython",
    "version": 3
   },
   "file_extension": ".py",
   "mimetype": "text/x-python",
   "name": "python",
   "nbconvert_exporter": "python",
   "pygments_lexer": "ipython3",
   "version": "3.5.4"
  }
 },
 "nbformat": 4,
 "nbformat_minor": 2
}
